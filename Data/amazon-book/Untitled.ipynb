{
 "cells": [
  {
   "cell_type": "code",
   "execution_count": 63,
   "id": "352717f8",
   "metadata": {},
   "outputs": [],
   "source": [
    "import numpy as np"
   ]
  },
  {
   "cell_type": "code",
   "execution_count": 64,
   "id": "2a945444",
   "metadata": {},
   "outputs": [],
   "source": [
    "a = dict()\n",
    "file1 = open('./train.txt', 'r')\n",
    "for l in file1.readlines():\n",
    "    tmp = l.strip()\n",
    "    inter = [int(i) for i in tmp.split()]\n",
    "    a[inter[0]] = inter[1:]\n",
    "file2 = open('./test.txt', 'r')\n",
    "for l in file2.readlines():\n",
    "    tmp = l.strip()\n",
    "    inter = [int(i) for i in tmp.split()]\n",
    "    a[inter[0]].extend(inter[1:])\n"
   ]
  },
  {
   "cell_type": "code",
   "execution_count": 65,
   "id": "d7a64df7",
   "metadata": {},
   "outputs": [
    {
     "data": {
      "text/plain": [
       "[1, 2, 3]"
      ]
     },
     "execution_count": 65,
     "metadata": {},
     "output_type": "execute_result"
    }
   ],
   "source": [
    "tmp_list1 = [1, 2, 3]\n",
    "tmp_list2 = []\n",
    "tmp_list1.extend(tmp_list2)\n",
    "tmp_list1"
   ]
  },
  {
   "cell_type": "code",
   "execution_count": 66,
   "id": "ab60b557",
   "metadata": {},
   "outputs": [
    {
     "data": {
      "text/plain": [
       "70679"
      ]
     },
     "execution_count": 66,
     "metadata": {},
     "output_type": "execute_result"
    }
   ],
   "source": [
    "len(a.keys())"
   ]
  },
  {
   "cell_type": "code",
   "execution_count": 67,
   "id": "a7fc3f85",
   "metadata": {},
   "outputs": [],
   "source": [
    "file1 = open('./ab_train.txt', 'w')\n",
    "file2 = open('./ab_test.txt', 'w')\n",
    "count1 = 0\n",
    "count2 = 0\n",
    "for key, value in a.items():\n",
    "    tmp_train = \"\"\n",
    "    tmp_test = \"\"\n",
    "    tmp_train = tmp_train + str(key) +\" \"\n",
    "    tmp_test = tmp_test + str(key) +\" \"\n",
    "    np_value = np.array(value)\n",
    "    np_value = np.unique(np_value)\n",
    "    number = int(0.2*len(np_value))\n",
    "    if number == 0:\n",
    "        count1 += 1\n",
    "        if len(np_value) == 1:\n",
    "            print(\"yes\")\n",
    "            tmp_test += \"\\n\"\n",
    "            tmp_train +='\\n'\n",
    "            file1.write(tmp_train)\n",
    "            file2.write(tmp_test)\n",
    "            continue\n",
    "        else:\n",
    "            test_candidate = np.random.choice(np_value, 1)\n",
    "            train_candidiate = np.setdiff1d(np_value, test_candidate)\n",
    "    else:\n",
    "        count2 += 1\n",
    "        test_candidate = np.random.choice(np_value, number, replace=False)\n",
    "        train_candidate = np.setdiff1d(np_value, test_candidate)\n",
    "    for i in test_candidate:\n",
    "        tmp_test = tmp_test + str(i) +\" \"\n",
    "    for i in train_candidate:\n",
    "        tmp_train = tmp_train + str(i) + \" \"\n",
    "    tmp_test += \"\\n\"\n",
    "    tmp_train +='\\n'\n",
    "    file1.write(tmp_train)\n",
    "    file2.write(tmp_test)\n",
    "file1.close()\n",
    "file2.close()"
   ]
  },
  {
   "cell_type": "code",
   "execution_count": 68,
   "id": "758b8e09",
   "metadata": {},
   "outputs": [
    {
     "data": {
      "text/plain": [
       "(84, 70595, 70679)"
      ]
     },
     "execution_count": 68,
     "metadata": {},
     "output_type": "execute_result"
    }
   ],
   "source": [
    "count1, count2, count1+count2"
   ]
  },
  {
   "cell_type": "code",
   "execution_count": 69,
   "id": "76336704",
   "metadata": {},
   "outputs": [],
   "source": [
    "def load_cf(filename):\n",
    "        count = 0\n",
    "        user = []\n",
    "        item = []\n",
    "        user_dict = dict()\n",
    "        lines = open(filename, 'r').readlines()\n",
    "        for l in lines:\n",
    "            count +=1\n",
    "            tmp = l.strip()\n",
    "            inter = [int(i) for i in tmp.split()]\n",
    "            \n",
    "            if len(inter) > 1:\n",
    "                user_id, item_ids = inter[0], inter[1:]\n",
    "                #print(user_id)\n",
    "                item_ids = list(set(item_ids))\n",
    "                #item_ids = item_ids[:10]\n",
    "\n",
    "                for item_id in item_ids:\n",
    "                    user.append(user_id)\n",
    "                    item.append(item_id)\n",
    "                    #self.edge_based_dict[str(user_id)+str(item_id)]=True\n",
    "                user_dict[user_id] = item_ids\n",
    "            else:\n",
    "                print(\"no\")\n",
    "\n",
    "        user = np.array(user, dtype=np.int32)\n",
    "        item = np.array(item, dtype=np.int32)\n",
    "        print(count)\n",
    "        return (user, item), user_dict"
   ]
  },
  {
   "cell_type": "code",
   "execution_count": 70,
   "id": "3af3d302",
   "metadata": {},
   "outputs": [
    {
     "name": "stdout",
     "output_type": "stream",
     "text": [
      "70552\n",
      "70301\n"
     ]
    }
   ],
   "source": [
    "a, b = load_cf('./ab_train.txt')\n",
    "c, d = load_cf('./ab_test.txt')"
   ]
  },
  {
   "cell_type": "code",
   "execution_count": 71,
   "id": "fca15aa0",
   "metadata": {
    "scrolled": true
   },
   "outputs": [
    {
     "data": {
      "text/plain": [
       "70552"
      ]
     },
     "execution_count": 71,
     "metadata": {},
     "output_type": "execute_result"
    }
   ],
   "source": [
    "max(max(a[0]), max(c[0])) + 1"
   ]
  },
  {
   "cell_type": "code",
   "execution_count": 72,
   "id": "f9b17a91",
   "metadata": {},
   "outputs": [
    {
     "data": {
      "text/plain": [
       "70551"
      ]
     },
     "execution_count": 72,
     "metadata": {},
     "output_type": "execute_result"
    }
   ],
   "source": [
    "max(a[0])"
   ]
  },
  {
   "cell_type": "code",
   "execution_count": null,
   "id": "dcc64793",
   "metadata": {},
   "outputs": [],
   "source": []
  }
 ],
 "metadata": {
  "kernelspec": {
   "display_name": "Python 3",
   "language": "python",
   "name": "python3"
  },
  "language_info": {
   "codemirror_mode": {
    "name": "ipython",
    "version": 3
   },
   "file_extension": ".py",
   "mimetype": "text/x-python",
   "name": "python",
   "nbconvert_exporter": "python",
   "pygments_lexer": "ipython3",
   "version": "3.6.13"
  }
 },
 "nbformat": 4,
 "nbformat_minor": 5
}
